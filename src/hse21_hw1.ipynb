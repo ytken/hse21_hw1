{
  "nbformat": 4,
  "nbformat_minor": 0,
  "metadata": {
    "colab": {
      "name": "hse21_hw1.ipynb",
      "provenance": []
    },
    "kernelspec": {
      "name": "python3",
      "display_name": "Python 3"
    },
    "language_info": {
      "name": "python"
    }
  },
  "cells": [
    {
      "cell_type": "markdown",
      "metadata": {
        "id": "SPiunrFst5v2"
      },
      "source": [
        "Для вывода информации о контигах напишем функцию, получающую на вход файл и выводящую необходимые данные:\n",
        "*   общее кол-во контигов\n",
        "*   их общая длина\n",
        "*   длина самого длинного контига\n",
        "*   N50"
      ]
    },
    {
      "cell_type": "code",
      "metadata": {
        "colab": {
          "base_uri": "https://localhost:8080/"
        },
        "id": "x-7bUhYkzGnR",
        "outputId": "e5b947f7-2f89-44b5-c7a1-8802715c44ab"
      },
      "source": [
        "!pip install biopython\n",
        "from Bio import SeqIO"
      ],
      "execution_count": null,
      "outputs": [
        {
          "output_type": "stream",
          "name": "stdout",
          "text": [
            "Collecting biopython\n",
            "  Downloading biopython-1.79-cp37-cp37m-manylinux_2_5_x86_64.manylinux1_x86_64.whl (2.3 MB)\n",
            "\u001b[K     |████████████████████████████████| 2.3 MB 5.1 MB/s \n",
            "\u001b[?25hRequirement already satisfied: numpy in /usr/local/lib/python3.7/dist-packages (from biopython) (1.19.5)\n",
            "Installing collected packages: biopython\n",
            "Successfully installed biopython-1.79\n"
          ]
        }
      ]
    },
    {
      "cell_type": "code",
      "metadata": {
        "id": "7oPOH_FMmwLv"
      },
      "source": [
        "def data_analysis(file):\n",
        "  count = 0\n",
        "  sum = 0\n",
        "  max_len = 0\n",
        "  records = []\n",
        "  for seq_record in SeqIO.parse(file, \"fasta\"):\n",
        "    count+=1\n",
        "    sum+=len(seq_record)\n",
        "    if len(seq_record) > max_len:\n",
        "      max_len = len(seq_record)\n",
        "    records.append(len(seq_record))\n",
        "  records.sort()\n",
        "  score = 0\n",
        "  while (score < sum/2):\n",
        "    len_N50 = records.pop()\n",
        "    score += len_N50\n",
        "  print(f'Количество контигов: {count}')\n",
        "  print(f'Общая длина: {sum}')\n",
        "  print(f'Длина самого длинного: {max_len}')\n",
        "  print(f'N50: {len_N50}')"
      ],
      "execution_count": 24,
      "outputs": []
    },
    {
      "cell_type": "markdown",
      "metadata": {
        "id": "xuCSF9j9vYaA"
      },
      "source": [
        "Контиги"
      ]
    },
    {
      "cell_type": "code",
      "metadata": {
        "colab": {
          "base_uri": "https://localhost:8080/"
        },
        "id": "T07XF1QLveIy",
        "outputId": "6d02eebf-3536-4a6a-a07f-0db308c12238"
      },
      "source": [
        "data_analysis(\"/home/contigs.fasta\")"
      ],
      "execution_count": 25,
      "outputs": [
        {
          "output_type": "stream",
          "name": "stdout",
          "text": [
            "Количество контигов: 633\n",
            "Общая длина: 3927160\n",
            "Длина самого длинного: 135090\n",
            "N50: 47993\n"
          ]
        }
      ]
    },
    {
      "cell_type": "markdown",
      "metadata": {
        "id": "AHHx7-Ieveen"
      },
      "source": [
        "Скаффолды"
      ]
    },
    {
      "cell_type": "code",
      "metadata": {
        "colab": {
          "base_uri": "https://localhost:8080/"
        },
        "id": "Gr-p02DZvf-6",
        "outputId": "313b7a6c-a51d-4a7f-da2c-0b1f15001072"
      },
      "source": [
        "data_analysis(\"/home/scaffolds.fasta\")"
      ],
      "execution_count": 26,
      "outputs": [
        {
          "output_type": "stream",
          "name": "stdout",
          "text": [
            "Количество контигов: 72\n",
            "Общая длина: 3873069\n",
            "Длина самого длинного: 3833837\n",
            "N50: 3833837\n"
          ]
        }
      ]
    },
    {
      "cell_type": "markdown",
      "metadata": {
        "id": "XHWO2MuWCA6h"
      },
      "source": [
        "Для самого длинного скаффолда посчитать количество гэпов (участков, состоящих из букв NNNN) и их общую длину"
      ]
    },
    {
      "cell_type": "code",
      "metadata": {
        "id": "WkmBlqgLLpt9"
      },
      "source": [
        "import re"
      ],
      "execution_count": 40,
      "outputs": []
    },
    {
      "cell_type": "code",
      "metadata": {
        "id": "XPZfqsYyCV6J"
      },
      "source": [
        "def gap_analysis(file):\n",
        "  for seq_record in SeqIO.parse(file,\"fasta\"):\n",
        "    gaps=re.findall(\"N+\", str(seq_record.seq))\n",
        "  sum = 0\n",
        "  for gap in gaps:\n",
        "    sum+=len(gap)\n",
        "  print(f\"Количество гэпов: {len(gaps)}\")\n",
        "  print(f\"Общая длина: {sum}\")"
      ],
      "execution_count": 65,
      "outputs": []
    },
    {
      "cell_type": "code",
      "metadata": {
        "colab": {
          "base_uri": "https://localhost:8080/"
        },
        "id": "WBbtl320C6w3",
        "outputId": "dd02d492-ebe2-42c3-9bf8-7c10c6aa9978"
      },
      "source": [
        "gap_analysis(\"/home/longest.fasta\")"
      ],
      "execution_count": 66,
      "outputs": [
        {
          "output_type": "stream",
          "name": "stdout",
          "text": [
            "Количество гэпов: 62\n",
            "Общая длина: 5898\n"
          ]
        }
      ]
    },
    {
      "cell_type": "code",
      "metadata": {
        "colab": {
          "base_uri": "https://localhost:8080/"
        },
        "id": "LrEvJG3kJ-V5",
        "outputId": "6962d9f2-8324-43ba-a593-3049606d9902"
      },
      "source": [
        "gap_analysis(\"/home/best_scaffold_without_gaps.fasta\")"
      ],
      "execution_count": 67,
      "outputs": [
        {
          "output_type": "stream",
          "name": "stdout",
          "text": [
            "Количество гэпов: 7\n",
            "Общая длина: 1004\n"
          ]
        }
      ]
    }
  ]
}